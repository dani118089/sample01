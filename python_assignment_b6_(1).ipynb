{
  "cells": [
    {
      "cell_type": "markdown",
      "metadata": {
        "id": "view-in-github",
        "colab_type": "text"
      },
      "source": [
        "<a href=\"https://colab.research.google.com/github/dani118089/sample01/blob/main/python_assignment_b6_(1).ipynb\" target=\"_parent\"><img src=\"https://colab.research.google.com/assets/colab-badge.svg\" alt=\"Open In Colab\"/></a>"
      ]
    },
    {
      "cell_type": "markdown",
      "id": "d2328cad",
      "metadata": {
        "id": "d2328cad"
      },
      "source": [
        "# Python Basics Assignment"
      ]
    },
    {
      "cell_type": "markdown",
      "id": "cb537954",
      "metadata": {
        "id": "cb537954"
      },
      "source": [
        "### Question 1\n",
        "Write a function to compute number of vowels in a string given as input"
      ]
    },
    {
      "cell_type": "code",
      "execution_count": null,
      "id": "cf213ba2",
      "metadata": {
        "colab": {
          "base_uri": "https://localhost:8080/"
        },
        "id": "cf213ba2",
        "outputId": "bd6cc355-8b28-4a2b-c98e-aaab1a7bc70a"
      },
      "outputs": [
        {
          "output_type": "stream",
          "name": "stdout",
          "text": [
            "enter a string :danish\n",
            "number of vowels : 2\n"
          ]
        }
      ],
      "source": [
        "# Your code here\n",
        "n=input(\"enter a string :\")\n",
        "vowels=('a','e','i','o','u')\n",
        "def your_function_1():\n",
        "    count=0\n",
        "    for i in n:\n",
        "        if i.lower() in vowels:\n",
        "            count+=1\n",
        "\n",
        "    print(\"number of vowels :\" ,count)\n",
        "\n",
        "your_function_1()\n",
        "\n"
      ]
    },
    {
      "cell_type": "markdown",
      "id": "4eaff430",
      "metadata": {
        "id": "4eaff430"
      },
      "source": [
        "### Question 2\n",
        "Write a function that checks whether a number is prime."
      ]
    },
    {
      "cell_type": "code",
      "execution_count": null,
      "id": "81934cf7",
      "metadata": {
        "colab": {
          "base_uri": "https://localhost:8080/"
        },
        "id": "81934cf7",
        "outputId": "350e5603-b7a3-4a63-ca60-7c4c5bbbc9ff"
      },
      "outputs": [
        {
          "name": "stdout",
          "output_type": "stream",
          "text": [
            "enter a number4\n"
          ]
        },
        {
          "output_type": "execute_result",
          "data": {
            "text/plain": [
              "False"
            ]
          },
          "metadata": {},
          "execution_count": 8
        }
      ],
      "source": [
        "# Your code here\n",
        "n=int(input('enter a number'))\n",
        "def your_function_2():\n",
        "    if n<=1:\n",
        "      return False\n",
        "    for i in range(2,n):\n",
        "      if n%i==0:\n",
        "        return False\n",
        "      return True\n",
        "your_function_2()\n"
      ]
    },
    {
      "cell_type": "markdown",
      "id": "5f061e50",
      "metadata": {
        "id": "5f061e50"
      },
      "source": [
        "### Question 3\n",
        "Write a function to return the maximum of two numbers."
      ]
    },
    {
      "cell_type": "code",
      "execution_count": null,
      "id": "44e2a596",
      "metadata": {
        "colab": {
          "base_uri": "https://localhost:8080/"
        },
        "id": "44e2a596",
        "outputId": "1665dcfa-8f4e-4d29-e2be-24062addb9cf"
      },
      "outputs": [
        {
          "output_type": "stream",
          "name": "stdout",
          "text": [
            "enter 1st number2\n",
            "enter 2th number4\n",
            "4\n"
          ]
        }
      ],
      "source": [
        "# Your code here\n",
        "n=int(input('enter 1st number: '))\n",
        "m=int(input('enter 2th number: '))\n",
        "def your_function_3():\n",
        "  print(max(n,m))\n",
        "your_function_3()"
      ]
    },
    {
      "cell_type": "markdown",
      "id": "7513ca91",
      "metadata": {
        "id": "7513ca91"
      },
      "source": [
        "### Question 4\n",
        "Write a function to return the factorial of a number."
      ]
    },
    {
      "cell_type": "code",
      "execution_count": null,
      "id": "6617842f",
      "metadata": {
        "colab": {
          "base_uri": "https://localhost:8080/"
        },
        "id": "6617842f",
        "outputId": "b0809eb9-dec2-4572-f3f3-5b7be22599dc"
      },
      "outputs": [
        {
          "output_type": "stream",
          "name": "stdout",
          "text": [
            "6\n"
          ]
        }
      ],
      "source": [
        "# Your code here\n",
        "def your_function_4(n):\n",
        "  if n==0 or n==1:\n",
        "    return 1\n",
        "  else:\n",
        "    return n*your_function_4(n-1)\n",
        "print(your_function_4(3))\n",
        "\n"
      ]
    },
    {
      "cell_type": "markdown",
      "id": "9b942098",
      "metadata": {
        "id": "9b942098"
      },
      "source": [
        "### Question 5\n",
        "Write a function to reverse a string without string indexing."
      ]
    },
    {
      "cell_type": "code",
      "execution_count": null,
      "id": "d606b194",
      "metadata": {
        "colab": {
          "base_uri": "https://localhost:8080/"
        },
        "id": "d606b194",
        "outputId": "79c8d4a8-0e01-4372-aae3-b5897c7e5dae"
      },
      "outputs": [
        {
          "output_type": "stream",
          "name": "stdout",
          "text": [
            "Enter a string: dani\n",
            "Reversed string is: inad\n"
          ]
        }
      ],
      "source": [
        "# Your code here\n",
        "def your_function_5():\n",
        "    n=input(\"Enter a string: \")\n",
        "    rev=reversed(n)\n",
        "    print(\"Reversed string is:\",''.join( rev))\n",
        "your_function_5()\n",
        "# def reverse_string(s):\n",
        "#     reversed_str = \"\"\n",
        "#     for ch in s:\n",
        "#         reversed_str = ch + reversed_str\n",
        "#     return reversed_str\n",
        "\n",
        "# n = input(\"Enter a string: \")\n",
        "# print(\"Reversed string is:\", reverse_string(n))\n",
        "\n",
        "\n"
      ]
    },
    {
      "cell_type": "markdown",
      "id": "1abd915b",
      "metadata": {
        "id": "1abd915b"
      },
      "source": [
        "### Question 6\n",
        "Write a function to check if a string is a palindrome."
      ]
    },
    {
      "cell_type": "code",
      "execution_count": null,
      "id": "2b868fb3",
      "metadata": {
        "colab": {
          "base_uri": "https://localhost:8080/"
        },
        "id": "2b868fb3",
        "outputId": "35875c53-1fa5-47d4-938a-79e3571c7b5c"
      },
      "outputs": [
        {
          "output_type": "stream",
          "name": "stdout",
          "text": [
            "enter a string:  dani\n",
            "not palindrome\n"
          ]
        }
      ],
      "source": [
        "# Your code here\n",
        "n=input('enter a string:  ')\n",
        "def your_function_6():\n",
        "  d=reverse_string(n)\n",
        "  if d==n:\n",
        "    print('palindrome')\n",
        "  else:\n",
        "    print('not palindrome')\n",
        "your_function_6()"
      ]
    },
    {
      "cell_type": "markdown",
      "id": "5f2f3791",
      "metadata": {
        "id": "5f2f3791"
      },
      "source": [
        "### Question 7\n",
        "Write a function to count vowels in a string."
      ]
    },
    {
      "cell_type": "code",
      "execution_count": null,
      "id": "73fefa50",
      "metadata": {
        "colab": {
          "base_uri": "https://localhost:8080/"
        },
        "id": "73fefa50",
        "outputId": "adf68a85-9af6-4a71-b1bf-4f2710464b11"
      },
      "outputs": [
        {
          "output_type": "stream",
          "name": "stdout",
          "text": [
            "enter a string :hello\n",
            "number of vowels : 2\n"
          ]
        }
      ],
      "source": [
        "# Your code here\n",
        "n=input(\"enter a string :\")\n",
        "vowels=('a','e','i','o','u')\n",
        "def your_function_7():\n",
        "    count=0\n",
        "    for i in n:\n",
        "        if i.lower() in vowels:\n",
        "            count+=1\n",
        "\n",
        "    print(\"number of vowels :\" ,count)\n",
        "\n",
        "your_function_7()\n",
        "\n"
      ]
    },
    {
      "cell_type": "markdown",
      "id": "0d3a9996",
      "metadata": {
        "id": "0d3a9996"
      },
      "source": [
        "### Question 8\n",
        "Write a function that returns the sum of a list."
      ]
    },
    {
      "cell_type": "code",
      "execution_count": null,
      "id": "ab6afc66",
      "metadata": {
        "colab": {
          "base_uri": "https://localhost:8080/"
        },
        "id": "ab6afc66",
        "outputId": "2acdba8d-7a84-495c-da64-88428e235751"
      },
      "outputs": [
        {
          "output_type": "stream",
          "name": "stdout",
          "text": [
            "sum of a list:  15\n"
          ]
        }
      ],
      "source": [
        "# Your code here\n",
        "def your_function_8():\n",
        "  n=[1,2,3,4,5]\n",
        "  print(\"sum of a list: \",sum(n))\n",
        "your_function_8()\n"
      ]
    },
    {
      "cell_type": "markdown",
      "id": "f6682500",
      "metadata": {
        "id": "f6682500"
      },
      "source": [
        "### Question 9\n",
        "Write a function to find the smallest number in a list."
      ]
    },
    {
      "cell_type": "code",
      "execution_count": null,
      "id": "6798a641",
      "metadata": {
        "colab": {
          "base_uri": "https://localhost:8080/"
        },
        "id": "6798a641",
        "outputId": "9aa2dfee-33e1-4cb6-88d4-01be54f1cd4a"
      },
      "outputs": [
        {
          "output_type": "stream",
          "name": "stdout",
          "text": [
            "smallest number is :  0\n"
          ]
        }
      ],
      "source": [
        "# Your code here\n",
        "def your_function_9():\n",
        "  n=[1,2,3,0,5]\n",
        "  print(\"smallest number is : \",min(n))\n",
        "your_function_9()\n"
      ]
    },
    {
      "cell_type": "markdown",
      "id": "fb11e683",
      "metadata": {
        "id": "fb11e683"
      },
      "source": [
        "### Question 10\n",
        "Write a function to remove duplicates from a list."
      ]
    },
    {
      "cell_type": "code",
      "execution_count": null,
      "id": "7c53f88c",
      "metadata": {
        "colab": {
          "base_uri": "https://localhost:8080/"
        },
        "id": "7c53f88c",
        "outputId": "3fcb405e-6696-438f-cae0-d5ef5265bd51"
      },
      "outputs": [
        {
          "output_type": "stream",
          "name": "stdout",
          "text": [
            "Duplicates removed [1, 2, 3, 4, 5, 6, 7]\n"
          ]
        }
      ],
      "source": [
        "# Your code here\n",
        "def your_function_10():\n",
        "    n=[1,5,6,7,2,3,4,2,3]\n",
        "    a=set(n)\n",
        "    print(\"Duplicates removed\",list(a))\n",
        "your_function_10()"
      ]
    },
    {
      "cell_type": "markdown",
      "id": "9c380a5c",
      "metadata": {
        "id": "9c380a5c"
      },
      "source": [
        "### Question 11\n",
        "Write a function to sort a list in ascending order without using builtin sort function"
      ]
    },
    {
      "cell_type": "code",
      "execution_count": null,
      "id": "8e43832f",
      "metadata": {
        "colab": {
          "base_uri": "https://localhost:8080/"
        },
        "id": "8e43832f",
        "outputId": "96f06ba6-d3b7-45c3-e0a5-d69979f37b5c"
      },
      "outputs": [
        {
          "output_type": "stream",
          "name": "stdout",
          "text": [
            "[2, 3, 4, 5, 5, 8]\n"
          ]
        }
      ],
      "source": [
        "# Your code here\n",
        "def your_function_11():\n",
        "    pass\n"
      ]
    },
    {
      "cell_type": "markdown",
      "id": "1270c91c",
      "metadata": {
        "id": "1270c91c"
      },
      "source": [
        "### Question 12\n",
        "Write a function that returns the length of a string."
      ]
    },
    {
      "cell_type": "code",
      "execution_count": null,
      "id": "87f35472",
      "metadata": {
        "colab": {
          "base_uri": "https://localhost:8080/"
        },
        "id": "87f35472",
        "outputId": "17c2fe8c-4b32-4ae8-ae5b-694d4792c0b7"
      },
      "outputs": [
        {
          "output_type": "stream",
          "name": "stdout",
          "text": [
            "Sorted list is: [1, 2, 5, 5, 6, 9]\n"
          ]
        }
      ],
      "source": [
        "# Your code here\n",
        "def your_function_12():\n",
        "    n = [5, 2, 9, 1, 5, 6]\n",
        "    for i in range(len(n)):\n",
        "        for j in range(i + 1, len(n)):\n",
        "            if n[i] > n[j]:\n",
        "                n[i], n[j] = n[j], n[i]\n",
        "    print(\"Sorted list is:\", n)\n",
        "your_function_12()"
      ]
    },
    {
      "cell_type": "markdown",
      "id": "9a8e3d28",
      "metadata": {
        "id": "9a8e3d28"
      },
      "source": [
        "### Question 13\n",
        "Write a function to count words in a sentence."
      ]
    },
    {
      "cell_type": "code",
      "execution_count": null,
      "id": "e6f996ef",
      "metadata": {
        "colab": {
          "base_uri": "https://localhost:8080/"
        },
        "id": "e6f996ef",
        "outputId": "37ff66ec-50ed-46fc-df73-872411ebe45c"
      },
      "outputs": [
        {
          "output_type": "stream",
          "name": "stdout",
          "text": [
            "5\n"
          ]
        }
      ],
      "source": [
        "\n",
        "# Your code here\n",
        "def count_words(sentence):\n",
        "    words = sentence.split()\n",
        "    return len(words)\n",
        "s = \"Hello, how are you today?\"\n",
        "print(count_words(s))"
      ]
    },
    {
      "cell_type": "markdown",
      "id": "430c2e4a",
      "metadata": {
        "id": "430c2e4a"
      },
      "source": [
        "### Question 14\n",
        "Write a function to convert Celsius to Fahrenheit."
      ]
    },
    {
      "cell_type": "code",
      "execution_count": null,
      "id": "b710b0bd",
      "metadata": {
        "colab": {
          "base_uri": "https://localhost:8080/"
        },
        "id": "b710b0bd",
        "outputId": "4fb76f5c-57bd-4ac7-d57e-db09d758f464"
      },
      "outputs": [
        {
          "output_type": "execute_result",
          "data": {
            "text/plain": [
              "77.0"
            ]
          },
          "metadata": {},
          "execution_count": 63
        }
      ],
      "source": [
        "# Your code here\n",
        "def your_function_14(celsius):\n",
        "    fahrenheit = (celsius * 9/5) + 32\n",
        "    return fahrenheit\n",
        "your_function_14(25)"
      ]
    },
    {
      "cell_type": "markdown",
      "id": "acefe5e3",
      "metadata": {
        "id": "acefe5e3"
      },
      "source": [
        "### Question 15\n",
        "Write a function to check if a number is palindrome."
      ]
    },
    {
      "cell_type": "code",
      "execution_count": null,
      "id": "b700abae",
      "metadata": {
        "colab": {
          "base_uri": "https://localhost:8080/"
        },
        "id": "b700abae",
        "outputId": "0b24f0ed-5b6f-406f-eb6c-ec8e44e7df6d"
      },
      "outputs": [
        {
          "output_type": "stream",
          "name": "stdout",
          "text": [
            "enter a num:  121\n",
            "palindrome\n"
          ]
        }
      ],
      "source": [
        "# Your code here\n",
        "n=input('enter a num:  ')\n",
        "def your_function_6():\n",
        "  d=reverse_string(n)\n",
        "  if d==n:\n",
        "    print('palindrome')\n",
        "  else:\n",
        "    print('not palindrome')\n",
        "your_function_6()"
      ]
    },
    {
      "cell_type": "markdown",
      "id": "b63452cb",
      "metadata": {
        "id": "b63452cb"
      },
      "source": [
        "### Question 16\n",
        "Write a function to return all even numbers in a list."
      ]
    },
    {
      "cell_type": "code",
      "source": [
        "def your_function_16():\n",
        "    n=[1,2,3,4,5,6,7,8,5,6,9,10]\n",
        "    print(\"Even numbers in the list are:\", [i for i in n if i % 2 == 0])\n",
        "your_function_16()"
      ],
      "metadata": {
        "colab": {
          "base_uri": "https://localhost:8080/"
        },
        "id": "x73xqA_pouVG",
        "outputId": "2c22489e-9726-40d9-899e-26ec2631f5d6"
      },
      "id": "x73xqA_pouVG",
      "execution_count": null,
      "outputs": [
        {
          "output_type": "stream",
          "name": "stdout",
          "text": [
            "Even numbers in the list are: [2, 4, 6, 8, 6, 10]\n"
          ]
        }
      ]
    },
    {
      "cell_type": "markdown",
      "id": "aca524d9",
      "metadata": {
        "id": "aca524d9"
      },
      "source": [
        "### Question 17\n",
        "Write a function to return the nth Fibonacci number."
      ]
    },
    {
      "cell_type": "code",
      "execution_count": null,
      "id": "97dc4e87",
      "metadata": {
        "colab": {
          "base_uri": "https://localhost:8080/"
        },
        "id": "97dc4e87",
        "outputId": "f67e2c9a-ce73-4771-c716-dbbd3315b5e3"
      },
      "outputs": [
        {
          "output_type": "stream",
          "name": "stdout",
          "text": [
            "Enter the number of terms in Fibonacci sequence: 23\n",
            "Fibonacci sequence up to 23 is: 28657\n"
          ]
        }
      ],
      "source": [
        "# Your code here\n",
        "def your_function_17(n):\n",
        "    a = 0\n",
        "    b = 1\n",
        "\n",
        "    for i in range(n):\n",
        "        a,b = b, a + b\n",
        "    print(\"Fibonacci sequence up to\", n, \"is:\", a)\n",
        "n = int(input(\"Enter the number of terms in Fibonacci sequence: \"))\n",
        "your_function_17(n)"
      ]
    },
    {
      "cell_type": "markdown",
      "id": "29c847dc",
      "metadata": {
        "id": "29c847dc"
      },
      "source": [
        "### Question 18\n",
        "Write a function to calculate the average of a list."
      ]
    },
    {
      "cell_type": "code",
      "execution_count": null,
      "id": "9adc9fd2",
      "metadata": {
        "colab": {
          "base_uri": "https://localhost:8080/"
        },
        "id": "9adc9fd2",
        "outputId": "34a1659b-94b7-41ee-a4e0-4022d733a4ab"
      },
      "outputs": [
        {
          "output_type": "stream",
          "name": "stdout",
          "text": [
            "average of a list:  3.0\n"
          ]
        }
      ],
      "source": [
        "# Your code here\n",
        "def your_function_18():\n",
        "  n=[1,2,3,4,5]\n",
        "  if len(n)==0:\n",
        "    return 0\n",
        "  else:\n",
        "    x=len(n)\n",
        "  average=sum(n)/x\n",
        "  print(\"average of a list: \",average)\n",
        "your_function_18()\n"
      ]
    },
    {
      "cell_type": "markdown",
      "id": "420240fb",
      "metadata": {
        "id": "420240fb"
      },
      "source": [
        "### Question 19\n",
        "Write a function that returns a dictionary of character counts."
      ]
    },
    {
      "cell_type": "code",
      "execution_count": null,
      "id": "95cafc54",
      "metadata": {
        "id": "95cafc54"
      },
      "outputs": [],
      "source": [
        "# Your code here\n",
        "def your_function_19():\n",
        "    pass"
      ]
    },
    {
      "cell_type": "markdown",
      "id": "17629a07",
      "metadata": {
        "id": "17629a07"
      },
      "source": [
        "### Question 20\n",
        "Write a function that returns True if all list elements are unique."
      ]
    },
    {
      "cell_type": "code",
      "execution_count": null,
      "id": "fe4f8820",
      "metadata": {
        "colab": {
          "base_uri": "https://localhost:8080/"
        },
        "id": "fe4f8820",
        "outputId": "d6abf727-3420-40b8-a761-7e8ac1d8f027"
      },
      "outputs": [
        {
          "output_type": "stream",
          "name": "stdout",
          "text": [
            "False\n"
          ]
        }
      ],
      "source": [
        "# Your code here\n",
        "def your_function_20():\n",
        "  n=['a','c','n','c','s','h','z','d']\n",
        "  a=set(n)\n",
        "  b=len(n)\n",
        "  if a==b:\n",
        "    print(\"True\")\n",
        "  else:\n",
        "    print(\"False\")\n",
        "your_function_20()"
      ]
    },
    {
      "cell_type": "markdown",
      "id": "91dc87b9",
      "metadata": {
        "id": "91dc87b9"
      },
      "source": [
        "### Question 21\n",
        "Write a function that returns dot product of two list of numbers"
      ]
    },
    {
      "cell_type": "code",
      "execution_count": null,
      "id": "87c3fa4b",
      "metadata": {
        "colab": {
          "base_uri": "https://localhost:8080/"
        },
        "id": "87c3fa4b",
        "outputId": "9f074a09-be81-49d6-d572-81910ac5ac82"
      },
      "outputs": [
        {
          "output_type": "stream",
          "name": "stdout",
          "text": [
            "32\n"
          ]
        }
      ],
      "source": [
        "# Your code here\n",
        "def your_function_21():\n",
        "  n1=[1,2,3]\n",
        "  n2=[4,5,6]\n",
        "  if len(n1)!=len(n2):\n",
        "    return 0\n",
        "  else:\n",
        "    product=0\n",
        "    for i in range(len(n1)):\n",
        "      product+=n1[i]*n2[i]\n",
        "    return product\n",
        "print(your_function_21())\n"
      ]
    },
    {
      "cell_type": "markdown",
      "id": "5eeb0527",
      "metadata": {
        "id": "5eeb0527"
      },
      "source": [
        "### Question 22\n",
        "Write a function that returns the projection of vector a onto vector b. Both a and b are given as list of numbers"
      ]
    },
    {
      "cell_type": "code",
      "execution_count": null,
      "id": "d2c2439f",
      "metadata": {
        "id": "d2c2439f"
      },
      "outputs": [],
      "source": [
        "# Your code here\n",
        "def your_function_22():\n",
        "    pass"
      ]
    },
    {
      "cell_type": "markdown",
      "id": "1410b385",
      "metadata": {
        "id": "1410b385"
      },
      "source": [
        "### Question 23\n",
        "Write a function to return common elements between two lists."
      ]
    },
    {
      "cell_type": "code",
      "execution_count": null,
      "id": "2cee584c",
      "metadata": {
        "colab": {
          "base_uri": "https://localhost:8080/"
        },
        "id": "2cee584c",
        "outputId": "c8eebdfe-d9c4-493c-bef5-47dcc052771a"
      },
      "outputs": [
        {
          "output_type": "stream",
          "name": "stdout",
          "text": [
            "[4, 5]\n"
          ]
        }
      ],
      "source": [
        "# Your code here\n",
        "def common_elements(list1, list2):\n",
        "    return list(set(list1) & set(list2))\n",
        "a = [1, 2, 3, 4, 5]\n",
        "b = [4, 8, 6, 7, 5]\n",
        "print(common_elements(a, b))"
      ]
    },
    {
      "cell_type": "markdown",
      "id": "23ab5210",
      "metadata": {
        "id": "23ab5210"
      },
      "source": [
        "### Question 24\n",
        "Create a class Vector that supports addition, dot product, and magnitude."
      ]
    },
    {
      "cell_type": "code",
      "execution_count": null,
      "id": "f6b18fd7",
      "metadata": {
        "id": "f6b18fd7"
      },
      "outputs": [],
      "source": [
        "# Your code here\n",
        "def your_function_24():\n",
        "    pass"
      ]
    },
    {
      "cell_type": "markdown",
      "id": "a0621aba",
      "metadata": {
        "id": "a0621aba"
      },
      "source": [
        "### Question 25\n",
        "Implement a function to return all outliers in a list based on the IQR method."
      ]
    },
    {
      "cell_type": "code",
      "execution_count": null,
      "id": "460a8994",
      "metadata": {
        "id": "460a8994"
      },
      "outputs": [],
      "source": [
        "# Your code here\n",
        "def your_function_25():\n",
        "    pass"
      ]
    },
    {
      "cell_type": "markdown",
      "id": "f0be510e",
      "metadata": {
        "id": "f0be510e"
      },
      "source": [
        "### Question 26\n",
        "Function with default arguments:\n",
        "Create a function to compute variance with an option to use sample or population formula"
      ]
    },
    {
      "cell_type": "code",
      "execution_count": null,
      "id": "941d732d",
      "metadata": {
        "id": "941d732d"
      },
      "outputs": [],
      "source": [
        "# Your code here\n",
        "def your_function_26():\n",
        "    pass"
      ]
    },
    {
      "cell_type": "markdown",
      "id": "c39be0f1",
      "metadata": {
        "id": "c39be0f1"
      },
      "source": [
        "### Question 27\n",
        "Create a list of squares of even numbers between 1 and 20 using list comprehension."
      ]
    },
    {
      "cell_type": "code",
      "execution_count": null,
      "id": "9e4ba74a",
      "metadata": {
        "id": "9e4ba74a"
      },
      "outputs": [],
      "source": [
        "# Your code here\n",
        "def your_function_27():\n",
        "    pass"
      ]
    },
    {
      "cell_type": "markdown",
      "id": "b43c266d",
      "metadata": {
        "id": "b43c266d"
      },
      "source": [
        "### Question 28\n",
        "Write a function that returns the L1 and L2 norms of a vector given as list"
      ]
    },
    {
      "cell_type": "code",
      "execution_count": null,
      "id": "4f5dc876",
      "metadata": {
        "id": "4f5dc876"
      },
      "outputs": [],
      "source": [
        "# Your code here\n",
        "def your_function_28():\n",
        "    pass"
      ]
    },
    {
      "cell_type": "markdown",
      "id": "2007915f",
      "metadata": {
        "id": "2007915f"
      },
      "source": [
        "### Question 29\n",
        "Write a function that computes the 95% confidence interval for the mean of a list of numbers assuming normal distribution."
      ]
    },
    {
      "cell_type": "code",
      "execution_count": null,
      "id": "8634dc63",
      "metadata": {
        "id": "8634dc63"
      },
      "outputs": [],
      "source": [
        "# Your code here\n",
        "def your_function_29():\n",
        "    pass"
      ]
    },
    {
      "cell_type": "markdown",
      "id": "08df3afb",
      "metadata": {
        "id": "08df3afb"
      },
      "source": [
        "### Question 30\n",
        "Given a list of categorical values, create a frequency distribution dictionary."
      ]
    },
    {
      "cell_type": "code",
      "execution_count": null,
      "id": "c9b88531",
      "metadata": {
        "id": "c9b88531"
      },
      "outputs": [],
      "source": [
        "# Your code here\n",
        "def your_function_30():\n",
        "    pass"
      ]
    }
  ],
  "metadata": {
    "kernelspec": {
      "display_name": "Python 3",
      "language": "python",
      "name": "python3"
    },
    "language_info": {
      "codemirror_mode": {
        "name": "ipython",
        "version": 3
      },
      "file_extension": ".py",
      "mimetype": "text/x-python",
      "name": "python",
      "nbconvert_exporter": "python",
      "pygments_lexer": "ipython3",
      "version": "3.12.7"
    },
    "colab": {
      "provenance": [],
      "include_colab_link": true
    }
  },
  "nbformat": 4,
  "nbformat_minor": 5
}