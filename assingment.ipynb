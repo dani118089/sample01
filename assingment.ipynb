{
  "cells": [
    {
      "cell_type": "markdown",
      "metadata": {
        "id": "view-in-github",
        "colab_type": "text"
      },
      "source": [
        "<a href=\"https://colab.research.google.com/github/dani118089/sample01/blob/main/assingment.ipynb\" target=\"_parent\"><img src=\"https://colab.research.google.com/assets/colab-badge.svg\" alt=\"Open In Colab\"/></a>"
      ]
    },
    {
      "cell_type": "markdown",
      "metadata": {
        "id": "zVV_KMSIUG-A"
      },
      "source": [
        "# Answer the following questions using only builtin Python datatypes and functions. Do not use Numpy or Scipy (i.e. No library imports allowed)"
      ]
    },
    {
      "cell_type": "markdown",
      "metadata": {
        "id": "uZnK7VgWV5SI"
      },
      "source": [
        "# Q1. Write a function that return the range (maximum and minimun) of a given list of numbers"
      ]
    },
    {
      "cell_type": "code",
      "execution_count": null,
      "metadata": {
        "id": "vuAbJQcOWAM7",
        "outputId": "b9fe8fa7-007f-47d1-8763-b7506b404651"
      },
      "outputs": [
        {
          "name": "stdout",
          "output_type": "stream",
          "text": [
            "range=  2 55\n"
          ]
        }
      ],
      "source": [
        "def range(a):\n",
        "    minimum=min(a)\n",
        "    maximum=max(a)\n",
        "    return minimum,maximum\n",
        "a=[2,4,3,10,7,55]\n",
        "minimum,maximum=range(a)\n",
        "print(\"range= \" , minimum,maximum)\n"
      ]
    },
    {
      "cell_type": "markdown",
      "metadata": {
        "id": "Y5_v5a8_U1O-"
      },
      "source": [
        "## Q2. Write function that returns mean value of a list of numbers"
      ]
    },
    {
      "cell_type": "code",
      "execution_count": null,
      "metadata": {
        "id": "iLQRxDvFCzdY",
        "outputId": "d52e1ed7-964e-45dc-e324-a5ae32c3b844"
      },
      "outputs": [
        {
          "name": "stdout",
          "output_type": "stream",
          "text": [
            "4.0\n"
          ]
        }
      ],
      "source": [
        "a=[1,2,3,4,5,6,7]\n",
        "def find_mean():\n",
        "    mean=sum(a)/len(a)\n",
        "    print(mean)\n",
        "\n",
        "\n",
        "find_mean()"
      ]
    },
    {
      "cell_type": "markdown",
      "metadata": {
        "id": "OpeRxoEoVTIP"
      },
      "source": [
        "# Q3. Write a function that returns the median value of a list of numbers"
      ]
    },
    {
      "cell_type": "code",
      "execution_count": null,
      "metadata": {
        "id": "u1CUy0UOVaQi",
        "outputId": "16c042fe-815d-4248-f05b-dc6bc5f5438c"
      },
      "outputs": [
        {
          "name": "stdout",
          "output_type": "stream",
          "text": [
            "4\n"
          ]
        }
      ],
      "source": [
        "a=[1,2,3,4,5,6,7]\n",
        "def find_median(a):\n",
        "    a.sort()\n",
        "    n=len(a)\n",
        "    if n%2==0:\n",
        "        median=(a[n//2]+a[n//2-1])/2\n",
        "        print(median)\n",
        "    else:\n",
        "        median=(a[n//2])\n",
        "        print(median)\n",
        "find_median(a)\n",
        "\n",
        "\n",
        "\n"
      ]
    },
    {
      "cell_type": "markdown",
      "metadata": {
        "id": "2EMOG7AZSqVn"
      },
      "source": [
        "## Q4. Write a function to return the mod of a list of numbers, if no mod exists, it should return None. If more than one mod exist, return the mod values as list"
      ]
    },
    {
      "cell_type": "code",
      "execution_count": null,
      "metadata": {
        "id": "qnMm2dhhSk3-"
      },
      "outputs": [],
      "source": [
        "n=[1,2,3,4,5,6,7,9,10]\n"
      ]
    },
    {
      "cell_type": "markdown",
      "metadata": {
        "id": "LcqWwqtgTCiL"
      },
      "source": [
        "## Q5. Write function to compute a given percentile value (e.g. 90th percentile) of a list of numbers"
      ]
    },
    {
      "cell_type": "code",
      "execution_count": null,
      "metadata": {
        "id": "Sn307h0TTb2b",
        "outputId": "aec6d226-c552-4df8-9573-e190e48ed767"
      },
      "outputs": [
        {
          "name": "stdout",
          "output_type": "stream",
          "text": [
            "percentail : 10\n"
          ]
        }
      ],
      "source": [
        "n=[1,2,3,4,5,6,]\n",
        "def percentail(n):\n",
        "    a=len(n)\n",
        "    p=(90/100*(a+1))\n",
        "    y=int(p)\n",
        "    frac=p-y\n",
        "    if y+1<p:\n",
        "        m=n[y]+frac*(n[y+1]-n[y])\n",
        "        print(\"percentail :\" ,m)\n",
        "    else:\n",
        "          print(\"percentail :\" ,n[y])\n",
        "\n",
        "percentail(n)\n"
      ]
    },
    {
      "cell_type": "markdown",
      "metadata": {
        "id": "Q3Y7KJh0CzdZ"
      },
      "source": [
        "# Q6. Write a function that returns the lower bound of a list of numbers"
      ]
    },
    {
      "cell_type": "code",
      "execution_count": null,
      "metadata": {
        "id": "Y-RKPdKuW5nx",
        "outputId": "e07d064a-52c4-4307-8a5c-6795f5d99e6d"
      },
      "outputs": [
        {
          "name": "stdout",
          "output_type": "stream",
          "text": [
            "lower bound= -2.5\n"
          ]
        }
      ],
      "source": [
        "\n",
        "def lower():\n",
        "\n",
        "    x= [1,9,4,7]\n",
        "\n",
        "    x.sort()\n",
        "\n",
        "    a=len(x)\n",
        "\n",
        "    q1=(25/100)*(a+1)\n",
        "\n",
        "    q3=(75/100)*(a+1)\n",
        "\n",
        "    IQR=q3-q1\n",
        "\n",
        "    lb=q1-1.5*IQR\n",
        "\n",
        "    print(\"lower bound=\",lb)\n",
        "\n",
        "lower()"
      ]
    },
    {
      "cell_type": "markdown",
      "metadata": {
        "id": "5aHfaI_jThpX"
      },
      "source": [
        "## Q7. Write function to return any outliers from a given list of numbers, if no outliers present it should return None"
      ]
    },
    {
      "cell_type": "code",
      "execution_count": null,
      "metadata": {
        "id": "gG6-qzT7T0Si",
        "outputId": "02c9d746-12c7-4eb0-c8b2-c99e5d3af29a"
      },
      "outputs": [
        {
          "name": "stdout",
          "output_type": "stream",
          "text": [
            "None\n"
          ]
        }
      ],
      "source": [
        "def outliers():\n",
        "    x=[1,7,4,9]\n",
        "    x.sort()\n",
        "    a=len(x)\n",
        "    q1=(25/100)*(a+1)\n",
        "    q2=(75/100)*(a+1)\n",
        "    IQR=q2-q1\n",
        "    lb=(q1-1.5*IQR)\n",
        "    ub=(q2+1.5*IQR)\n",
        "    outliers=[]\n",
        "    for i in x:\n",
        "        if i<lb or i>ub:\n",
        "            outliers.append(i)\n",
        "        if outliers:\n",
        "            return outliers\n",
        "        else:\n",
        "            return None\n",
        "outliers()\n",
        "print(outliers())"
      ]
    },
    {
      "cell_type": "markdown",
      "metadata": {
        "id": "jI9t-tcDT5EK"
      },
      "source": [
        "Q8. Write a function to return standard deviation of a list of numbers"
      ]
    },
    {
      "cell_type": "code",
      "execution_count": null,
      "metadata": {
        "id": "MMU_cMlLUFxJ",
        "outputId": "d3a64814-d7f4-40cf-ce77-67793b97a5eb"
      },
      "outputs": [
        {
          "name": "stdout",
          "output_type": "stream",
          "text": [
            "mean:  30.0\n",
            "variance 250.0\n",
            "standard deviation: 15.811388300841896\n"
          ]
        }
      ],
      "source": [
        "a=[10,20,30,40,50]\n",
        "def find_std():\n",
        "    mean=sum(a)/len(a)\n",
        "    print(\"mean: \",mean)\n",
        "    variance=sum((i-mean)**2 for i in a)/(len(a)-1)\n",
        "    print(\"variance\",variance)\n",
        "    std=variance**0.5\n",
        "    print(\"standard deviation:\",std)\n",
        "find_std()"
      ]
    },
    {
      "cell_type": "markdown",
      "metadata": {
        "id": "LufmQDJPURkM"
      },
      "source": [
        "## Q9. Write function to compute and return Z-score values of a list of numbers"
      ]
    },
    {
      "cell_type": "code",
      "execution_count": null,
      "metadata": {
        "id": "ml2qpSpFUYxV"
      },
      "outputs": [],
      "source": []
    },
    {
      "cell_type": "markdown",
      "metadata": {
        "id": "YQSNHIfxUb6s"
      },
      "source": [
        "## Q10. Write a function to compute and return the Pearson correlation coefficient value of two list of numbers"
      ]
    },
    {
      "cell_type": "code",
      "execution_count": null,
      "metadata": {
        "id": "1YGqr3T6Uk6H"
      },
      "outputs": [],
      "source": []
    }
  ],
  "metadata": {
    "colab": {
      "provenance": [],
      "include_colab_link": true
    },
    "kernelspec": {
      "display_name": "Python 3",
      "language": "python",
      "name": "python3"
    },
    "language_info": {
      "codemirror_mode": {
        "name": "ipython",
        "version": 3
      },
      "file_extension": ".py",
      "mimetype": "text/x-python",
      "name": "python",
      "nbconvert_exporter": "python",
      "pygments_lexer": "ipython3",
      "version": "3.13.5"
    }
  },
  "nbformat": 4,
  "nbformat_minor": 0
}